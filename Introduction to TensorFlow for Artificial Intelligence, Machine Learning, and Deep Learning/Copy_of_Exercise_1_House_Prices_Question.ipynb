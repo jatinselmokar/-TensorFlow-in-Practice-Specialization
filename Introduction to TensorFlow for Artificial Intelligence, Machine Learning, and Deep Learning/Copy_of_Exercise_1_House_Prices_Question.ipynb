{
  "nbformat": 4,
  "nbformat_minor": 0,
  "metadata": {
    "colab": {
      "name": "Copy of Exercise 1 - House Prices - Question.ipynb",
      "provenance": []
    },
    "kernelspec": {
      "name": "python3",
      "display_name": "Python 3"
    }
  },
  "cells": [
    {
      "cell_type": "markdown",
      "metadata": {
        "id": "mw2VBrBcgvGa",
        "colab_type": "text"
      },
      "source": [
        "In this exercise you'll try to build a neural network that predicts the price of a house according to a simple formula.\n",
        "\n",
        "So, imagine if house pricing was as easy as a house costs 50k + 50k per bedroom, so that a 1 bedroom house costs 100k, a 2 bedroom house costs 150k etc.\n",
        "\n",
        "How would you create a neural network that learns this relationship so that it would predict a 7 bedroom house as costing close to 400k etc.\n",
        "\n",
        "Hint: Your network might work better if you scale the house price down. You don't have to give the answer 400...it might be better to create something that predicts the number 4, and then your answer is in the 'hundreds of thousands' etc."
      ]
    },
    {
      "cell_type": "code",
      "metadata": {
        "id": "PUNO2E6SeURH",
        "colab_type": "code",
        "outputId": "50a335cf-b28b-4f8f-b69e-ae22d437ff6a",
        "colab": {
          "base_uri": "https://localhost:8080/",
          "height": 391
        }
      },
      "source": [
        "import tensorflow as tf\n",
        "import numpy as np\n",
        "from tensorflow import keras\n",
        "model = keras.Sequential([tf.keras.layers.Dense(1, input_shape = [1])])\n",
        "model.compile(loss = 'mean_squared_error', optimizer = 'sgd')\n",
        "xs = xs = np.array([1.0, 2.0, 3.0, 4.0, 5.0, 6.0], dtype = float)\n",
        "ys = np.array([100, 150, 200, 250, 300, 350], dtype = float)\n",
        "model.fit(xs, ys/100, epochs = 10)\n",
        "print(model.predict([7.0]))"
      ],
      "execution_count": 0,
      "outputs": [
        {
          "output_type": "stream",
          "text": [
            "Train on 6 samples\n",
            "Epoch 1/10\n",
            "6/6 [==============================] - 0s 25ms/sample - loss: 4.1359\n",
            "Epoch 2/10\n",
            "6/6 [==============================] - 0s 270us/sample - loss: 1.9527\n",
            "Epoch 3/10\n",
            "6/6 [==============================] - 0s 300us/sample - loss: 0.9420\n",
            "Epoch 4/10\n",
            "6/6 [==============================] - 0s 267us/sample - loss: 0.4740\n",
            "Epoch 5/10\n",
            "6/6 [==============================] - 0s 296us/sample - loss: 0.2571\n",
            "Epoch 6/10\n",
            "6/6 [==============================] - 0s 289us/sample - loss: 0.1564\n",
            "Epoch 7/10\n",
            "6/6 [==============================] - 0s 268us/sample - loss: 0.1095\n",
            "Epoch 8/10\n",
            "6/6 [==============================] - 0s 281us/sample - loss: 0.0876\n",
            "Epoch 9/10\n",
            "6/6 [==============================] - 0s 277us/sample - loss: 0.0771\n",
            "Epoch 10/10\n",
            "6/6 [==============================] - 0s 286us/sample - loss: 0.0720\n",
            "[[4.4517665]]\n"
          ],
          "name": "stdout"
        }
      ]
    },
    {
      "cell_type": "code",
      "metadata": {
        "id": "gNuzCSvldOBv",
        "colab_type": "code",
        "colab": {}
      },
      "source": [
        ""
      ],
      "execution_count": 0,
      "outputs": []
    }
  ]
}